{
  "metadata": {
    "kernelspec": {
      "language": "python",
      "display_name": "Python 3",
      "name": "python3"
    },
    "language_info": {
      "name": "python",
      "version": "3.7.10",
      "mimetype": "text/x-python",
      "codemirror_mode": {
        "name": "ipython",
        "version": 3
      },
      "pygments_lexer": "ipython3",
      "nbconvert_exporter": "python",
      "file_extension": ".py"
    },
    "kaggle": {
      "accelerator": "none",
      "dataSources": [
        {
          "sourceId": 2355807,
          "sourceType": "datasetVersion",
          "datasetId": 1422521
        }
      ],
      "dockerImageVersionId": 30096,
      "isInternetEnabled": false,
      "language": "python",
      "sourceType": "notebook",
      "isGpuEnabled": false
    },
    "colab": {
      "provenance": []
    }
  },
  "nbformat_minor": 0,
  "nbformat": 4,
  "cells": [
    {
      "source": [
        "\n",
        "import kagglehub\n",
        "mfaisalqureshi_spam_email_path = kagglehub.dataset_download('mfaisalqureshi/spam-email')\n",
        "\n",
        "print('Data source import complete.')\n"
      ],
      "metadata": {
        "id": "TpxwEfOKCLFT"
      },
      "cell_type": "code",
      "outputs": [],
      "execution_count": null
    },
    {
      "cell_type": "markdown",
      "source": [
        "<img src=\"https://helpemailmarketing.com/wp-content/uploads/2019/12/spam-filter-34101a1e6c494d44aa1b6d10302537da.jpg\"  style='width:1000px'>"
      ],
      "metadata": {
        "id": "7WU3yeO6CLFX"
      }
    },
    {
      "cell_type": "code",
      "source": [
        "\n",
        "\n",
        "import numpy as np\n",
        "import pandas as pd\n",
        "import os\n",
        "for dirname, _, filenames in os.walk('/kaggle/input'):\n",
        "    for filename in filenames:\n",
        "        print(os.path.join(dirname, filename))\n",
        "\n"
      ],
      "metadata": {
        "_uuid": "8f2839f25d086af736a60e9eeb907d3b93b6e0e5",
        "_cell_guid": "b1076dfc-b9ad-4769-8c92-a6c4dae69d19",
        "execution": {
          "iopub.status.busy": "2024-12-14T07:19:25.079819Z",
          "iopub.execute_input": "2024-12-14T07:19:25.080224Z",
          "iopub.status.idle": "2024-12-14T07:19:25.098486Z",
          "shell.execute_reply.started": "2024-12-14T07:19:25.080139Z",
          "shell.execute_reply": "2024-12-14T07:19:25.097512Z"
        },
        "trusted": true,
        "id": "OFX5c7smCLFb"
      },
      "outputs": [],
      "execution_count": null
    },
    {
      "cell_type": "code",
      "source": [
        "data=pd.read_csv('/kaggle/input/spam-email/spam.csv')\n",
        "data"
      ],
      "metadata": {
        "execution": {
          "iopub.status.busy": "2024-12-14T07:19:25.12982Z",
          "iopub.execute_input": "2024-12-14T07:19:25.130168Z",
          "iopub.status.idle": "2024-12-14T07:19:25.195638Z",
          "shell.execute_reply.started": "2024-12-14T07:19:25.130138Z",
          "shell.execute_reply": "2024-12-14T07:19:25.194769Z"
        },
        "trusted": true,
        "id": "3L2NBGjbCLFf"
      },
      "outputs": [],
      "execution_count": null
    },
    {
      "cell_type": "code",
      "source": [
        "data.columns"
      ],
      "metadata": {
        "execution": {
          "iopub.status.busy": "2024-12-14T07:19:25.199465Z",
          "iopub.execute_input": "2024-12-14T07:19:25.200153Z",
          "iopub.status.idle": "2024-12-14T07:19:25.210988Z",
          "shell.execute_reply.started": "2024-12-14T07:19:25.200112Z",
          "shell.execute_reply": "2024-12-14T07:19:25.210064Z"
        },
        "trusted": true,
        "id": "UzWeKUbGCLFi"
      },
      "outputs": [],
      "execution_count": null
    },
    {
      "cell_type": "code",
      "source": [
        "data.info()"
      ],
      "metadata": {
        "execution": {
          "iopub.status.busy": "2024-12-14T07:19:25.212512Z",
          "iopub.execute_input": "2024-12-14T07:19:25.215005Z",
          "iopub.status.idle": "2024-12-14T07:19:25.247743Z",
          "shell.execute_reply.started": "2024-12-14T07:19:25.214959Z",
          "shell.execute_reply": "2024-12-14T07:19:25.246926Z"
        },
        "trusted": true,
        "id": "QqQMORQ9CLFk"
      },
      "outputs": [],
      "execution_count": null
    },
    {
      "cell_type": "markdown",
      "source": [
        "**Dropped The Column Unnamed: 0**"
      ],
      "metadata": {
        "id": "DbJ8b5kTCLFl"
      }
    },
    {
      "cell_type": "code",
      "source": [
        "data.isna().sum()"
      ],
      "metadata": {
        "execution": {
          "iopub.status.busy": "2024-12-14T07:19:25.24881Z",
          "iopub.execute_input": "2024-12-14T07:19:25.249079Z",
          "iopub.status.idle": "2024-12-14T07:19:25.269668Z",
          "shell.execute_reply.started": "2024-12-14T07:19:25.249052Z",
          "shell.execute_reply": "2024-12-14T07:19:25.2688Z"
        },
        "trusted": true,
        "id": "NE-uJLqbCLFn"
      },
      "outputs": [],
      "execution_count": null
    },
    {
      "cell_type": "code",
      "source": [
        "data['Spam']=data['Category'].apply(lambda x:1 if x=='spam' else 0)\n",
        "data.head(5)"
      ],
      "metadata": {
        "execution": {
          "iopub.status.busy": "2024-12-14T07:19:25.273944Z",
          "iopub.execute_input": "2024-12-14T07:19:25.27426Z",
          "iopub.status.idle": "2024-12-14T07:19:25.29563Z",
          "shell.execute_reply.started": "2024-12-14T07:19:25.274231Z",
          "shell.execute_reply": "2024-12-14T07:19:25.294474Z"
        },
        "trusted": true,
        "id": "MQ1bNzQfCLFp"
      },
      "outputs": [],
      "execution_count": null
    },
    {
      "cell_type": "code",
      "source": [
        "from sklearn.model_selection import train_test_split\n",
        "X_train,X_test,y_train,y_test=train_test_split(data.Message,data.Spam,test_size=0.25)"
      ],
      "metadata": {
        "execution": {
          "iopub.status.busy": "2024-12-14T07:19:25.300618Z",
          "iopub.execute_input": "2024-12-14T07:19:25.301007Z",
          "iopub.status.idle": "2024-12-14T07:19:26.642537Z",
          "shell.execute_reply.started": "2024-12-14T07:19:25.300975Z",
          "shell.execute_reply": "2024-12-14T07:19:26.640812Z"
        },
        "trusted": true,
        "id": "inhFqp3BCLFq"
      },
      "outputs": [],
      "execution_count": null
    },
    {
      "cell_type": "code",
      "source": [
        "#CounterVectorizer Convert the text into matrics\n",
        "from sklearn.feature_extraction.text import CountVectorizer"
      ],
      "metadata": {
        "execution": {
          "iopub.status.busy": "2024-12-14T07:19:26.64432Z",
          "iopub.execute_input": "2024-12-14T07:19:26.644644Z",
          "iopub.status.idle": "2024-12-14T07:19:26.676666Z",
          "shell.execute_reply.started": "2024-12-14T07:19:26.644615Z",
          "shell.execute_reply": "2024-12-14T07:19:26.674993Z"
        },
        "trusted": true,
        "id": "qah8oJXICLFr"
      },
      "outputs": [],
      "execution_count": null
    },
    {
      "cell_type": "markdown",
      "source": [
        "**Naive Bayes Have three Classifier(Bernouli,Multinominal,Gaussian)\n",
        "Here I use Multinominal Bayes Because here data in a discrete form\n",
        "discrete data(e.g movie ratings ranging  1 to 5 as each rating will have certain frequency to represent)**"
      ],
      "metadata": {
        "id": "Nimk6EcUCLFs"
      }
    },
    {
      "cell_type": "code",
      "source": [
        "from sklearn.naive_bayes import MultinomialNB"
      ],
      "metadata": {
        "execution": {
          "iopub.status.busy": "2024-12-14T07:19:26.68433Z",
          "iopub.execute_input": "2024-12-14T07:19:26.684958Z",
          "iopub.status.idle": "2024-12-14T07:19:26.705628Z",
          "shell.execute_reply.started": "2024-12-14T07:19:26.684902Z",
          "shell.execute_reply": "2024-12-14T07:19:26.702477Z"
        },
        "trusted": true,
        "id": "F9lvN0KICLFt"
      },
      "outputs": [],
      "execution_count": null
    },
    {
      "cell_type": "code",
      "source": [
        "from sklearn.pipeline import Pipeline\n",
        "clf=Pipeline([\n",
        "    ('vectorizer',CountVectorizer()),\n",
        "    ('nb',MultinomialNB())\n",
        "])"
      ],
      "metadata": {
        "execution": {
          "iopub.status.busy": "2024-12-14T07:19:26.711863Z",
          "iopub.execute_input": "2024-12-14T07:19:26.714176Z",
          "iopub.status.idle": "2024-12-14T07:19:26.736829Z",
          "shell.execute_reply.started": "2024-12-14T07:19:26.714102Z",
          "shell.execute_reply": "2024-12-14T07:19:26.734801Z"
        },
        "trusted": true,
        "id": "OWYRMz9fCLFu"
      },
      "outputs": [],
      "execution_count": null
    },
    {
      "cell_type": "markdown",
      "source": [
        "# Tarining The Model"
      ],
      "metadata": {
        "id": "0ckSCVsDCLFw"
      }
    },
    {
      "cell_type": "code",
      "source": [
        "clf.fit(X_train,y_train)"
      ],
      "metadata": {
        "execution": {
          "iopub.status.busy": "2024-12-14T07:19:26.741851Z",
          "iopub.execute_input": "2024-12-14T07:19:26.745529Z",
          "iopub.status.idle": "2024-12-14T07:19:26.934529Z",
          "shell.execute_reply.started": "2024-12-14T07:19:26.745445Z",
          "shell.execute_reply": "2024-12-14T07:19:26.933454Z"
        },
        "trusted": true,
        "id": "JcV-xzovCLFx"
      },
      "outputs": [],
      "execution_count": null
    },
    {
      "cell_type": "markdown",
      "source": [
        "**Here I given Two email Two detect 1st One is looking good and the other one looking spam**"
      ],
      "metadata": {
        "id": "rHNNslSKCLFy"
      }
    },
    {
      "cell_type": "code",
      "source": [
        "emails=[\n",
        "    'Sounds great! Are you home now?',\n",
        "    'Will u meet ur dream partner soon? Is ur career off 2 a flyng start? 2 find out free, txt HORO followed by ur star sign, e. g. HORO ARIES'\n",
        "]"
      ],
      "metadata": {
        "execution": {
          "iopub.status.busy": "2024-12-14T07:19:26.938945Z",
          "iopub.execute_input": "2024-12-14T07:19:26.939466Z",
          "iopub.status.idle": "2024-12-14T07:19:26.948492Z",
          "shell.execute_reply.started": "2024-12-14T07:19:26.939427Z",
          "shell.execute_reply": "2024-12-14T07:19:26.947255Z"
        },
        "trusted": true,
        "id": "FPQdZgO7CLFy"
      },
      "outputs": [],
      "execution_count": null
    },
    {
      "cell_type": "markdown",
      "source": [
        "**Predict Email**"
      ],
      "metadata": {
        "id": "oepKOcvMCLF0"
      }
    },
    {
      "cell_type": "code",
      "source": [
        "clf.predict(emails)"
      ],
      "metadata": {
        "execution": {
          "iopub.status.busy": "2024-12-14T07:19:26.952952Z",
          "iopub.execute_input": "2024-12-14T07:19:26.957112Z",
          "iopub.status.idle": "2024-12-14T07:19:26.9749Z",
          "shell.execute_reply.started": "2024-12-14T07:19:26.95702Z",
          "shell.execute_reply": "2024-12-14T07:19:26.973959Z"
        },
        "trusted": true,
        "id": "lCEZsq8VCLF1"
      },
      "outputs": [],
      "execution_count": null
    },
    {
      "cell_type": "markdown",
      "source": [
        "# Prediction Of Model"
      ],
      "metadata": {
        "id": "zoN-k0jDCLF1"
      }
    },
    {
      "cell_type": "code",
      "source": [
        "clf.score(X_test,y_test)"
      ],
      "metadata": {
        "execution": {
          "iopub.status.busy": "2024-12-14T07:19:26.97972Z",
          "iopub.execute_input": "2024-12-14T07:19:26.982478Z",
          "iopub.status.idle": "2024-12-14T07:19:27.021285Z",
          "shell.execute_reply.started": "2024-12-14T07:19:26.982391Z",
          "shell.execute_reply": "2024-12-14T07:19:27.019874Z"
        },
        "trusted": true,
        "id": "zmdzGEcyCLF2"
      },
      "outputs": [],
      "execution_count": null
    }
  ]
}